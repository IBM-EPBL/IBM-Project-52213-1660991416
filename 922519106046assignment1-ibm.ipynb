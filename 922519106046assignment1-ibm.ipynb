{
 "cells": [
  {
   "cell_type": "markdown",
   "id": "fedc3496",
   "metadata": {
    "papermill": {
     "duration": 0.006421,
     "end_time": "2022-09-23T09:34:10.150452",
     "exception": false,
     "start_time": "2022-09-23T09:34:10.144031",
     "status": "completed"
    },
    "tags": []
   },
   "source": [
    "# Basic Python\n",
    "# 1. Split this string"
   ]
  },
  {
   "cell_type": "code",
   "execution_count": 1,
   "id": "2d79e51a",
   "metadata": {
    "execution": {
     "iopub.execute_input": "2022-09-23T09:34:10.163700Z",
     "iopub.status.busy": "2022-09-23T09:34:10.163071Z",
     "iopub.status.idle": "2022-09-23T09:34:10.183516Z",
     "shell.execute_reply": "2022-09-23T09:34:10.182292Z"
    },
    "papermill": {
     "duration": 0.030889,
     "end_time": "2022-09-23T09:34:10.186789",
     "exception": false,
     "start_time": "2022-09-23T09:34:10.155900",
     "status": "completed"
    },
    "tags": []
   },
   "outputs": [
    {
     "data": {
      "text/plain": [
       "['Hi', 'there', 'dad!']"
      ]
     },
     "execution_count": 1,
     "metadata": {},
     "output_type": "execute_result"
    }
   ],
   "source": [
    "s = \"Hi there Sam!\"\n",
    "s.split()\n",
    "['Hi', 'there', 'dad!']"
   ]
  },
  {
   "cell_type": "code",
   "execution_count": 2,
   "id": "409153e8",
   "metadata": {
    "execution": {
     "iopub.execute_input": "2022-09-23T09:34:10.200380Z",
     "iopub.status.busy": "2022-09-23T09:34:10.199284Z",
     "iopub.status.idle": "2022-09-23T09:34:10.206387Z",
     "shell.execute_reply": "2022-09-23T09:34:10.204216Z"
    },
    "papermill": {
     "duration": 0.016693,
     "end_time": "2022-09-23T09:34:10.209041",
     "exception": false,
     "start_time": "2022-09-23T09:34:10.192348",
     "status": "completed"
    },
    "tags": []
   },
   "outputs": [
    {
     "name": "stdout",
     "output_type": "stream",
     "text": [
      "\n"
     ]
    }
   ],
   "source": [
    "print()"
   ]
  },
  {
   "cell_type": "markdown",
   "id": "1bc853e8",
   "metadata": {
    "papermill": {
     "duration": 0.005286,
     "end_time": "2022-09-23T09:34:10.220316",
     "exception": false,
     "start_time": "2022-09-23T09:34:10.215030",
     "status": "completed"
    },
    "tags": []
   },
   "source": [
    "# 2. Use .format() to print the following string.\n",
    "# Output should be: The diameter of Earth is 12742 kilometers."
   ]
  },
  {
   "cell_type": "code",
   "execution_count": 3,
   "id": "aca32b42",
   "metadata": {
    "execution": {
     "iopub.execute_input": "2022-09-23T09:34:10.234833Z",
     "iopub.status.busy": "2022-09-23T09:34:10.233654Z",
     "iopub.status.idle": "2022-09-23T09:34:10.240341Z",
     "shell.execute_reply": "2022-09-23T09:34:10.239035Z"
    },
    "papermill": {
     "duration": 0.01627,
     "end_time": "2022-09-23T09:34:10.243003",
     "exception": false,
     "start_time": "2022-09-23T09:34:10.226733",
     "status": "completed"
    },
    "tags": []
   },
   "outputs": [
    {
     "name": "stdout",
     "output_type": "stream",
     "text": [
      "The diameter of Earth is 12742 kilometers.\n",
      "\n"
     ]
    }
   ],
   "source": [
    "planet = \"Earth\"\n",
    "diameter = 12742\n",
    "print(\"The diameter of {} is {} kilometers.\".format(planet,diameter))\n",
    "print()"
   ]
  },
  {
   "cell_type": "markdown",
   "id": "0588be5c",
   "metadata": {
    "papermill": {
     "duration": 0.005896,
     "end_time": "2022-09-23T09:34:10.255732",
     "exception": false,
     "start_time": "2022-09-23T09:34:10.249836",
     "status": "completed"
    },
    "tags": []
   },
   "source": [
    "# 3. In this nest dictionary grab the word \"hello\""
   ]
  },
  {
   "cell_type": "code",
   "execution_count": 4,
   "id": "7947b4f2",
   "metadata": {
    "execution": {
     "iopub.execute_input": "2022-09-23T09:34:10.269651Z",
     "iopub.status.busy": "2022-09-23T09:34:10.269212Z",
     "iopub.status.idle": "2022-09-23T09:34:10.281943Z",
     "shell.execute_reply": "2022-09-23T09:34:10.280403Z"
    },
    "papermill": {
     "duration": 0.023266,
     "end_time": "2022-09-23T09:34:10.284633",
     "exception": false,
     "start_time": "2022-09-23T09:34:10.261367",
     "status": "completed"
    },
    "tags": []
   },
   "outputs": [],
   "source": [
    "dict1 = {'k1':'hello'}\n",
    "dict2 = {'k1':{'k2':'hello'}}\n",
    "dict3 = {'k1':[{'k2':['k3',['hello']]}]}\n",
    "dict4 = {'k1':[1,2,{'k2':['k3',{'k4':[1,2,['hello']]}]}]}"
   ]
  },
  {
   "cell_type": "markdown",
   "id": "78e4cffb",
   "metadata": {
    "papermill": {
     "duration": 0.005745,
     "end_time": "2022-09-23T09:34:10.296978",
     "exception": false,
     "start_time": "2022-09-23T09:34:10.291233",
     "status": "completed"
    },
    "tags": []
   },
   "source": [
    "# Numpy\n",
    "**import numpy as np"
   ]
  },
  {
   "cell_type": "markdown",
   "id": "ca86febf",
   "metadata": {
    "papermill": {
     "duration": 0.005191,
     "end_time": "2022-09-23T09:34:10.307806",
     "exception": false,
     "start_time": "2022-09-23T09:34:10.302615",
     "status": "completed"
    },
    "tags": []
   },
   "source": [
    "# 4.1 Create an array of 10 zeros?\n",
    "# 4.2 Create an array of 10 fives?"
   ]
  },
  {
   "cell_type": "code",
   "execution_count": 5,
   "id": "cdd7df2c",
   "metadata": {
    "execution": {
     "iopub.execute_input": "2022-09-23T09:34:10.320595Z",
     "iopub.status.busy": "2022-09-23T09:34:10.320165Z",
     "iopub.status.idle": "2022-09-23T09:34:10.328118Z",
     "shell.execute_reply": "2022-09-23T09:34:10.325917Z"
    },
    "papermill": {
     "duration": 0.018858,
     "end_time": "2022-09-23T09:34:10.332123",
     "exception": false,
     "start_time": "2022-09-23T09:34:10.313265",
     "status": "completed"
    },
    "tags": []
   },
   "outputs": [
    {
     "name": "stdout",
     "output_type": "stream",
     "text": [
      "[0. 0. 0. 0. 0. 0. 0. 0. 0. 0.]\n"
     ]
    }
   ],
   "source": [
    "import numpy as np\n",
    "arr=np.zeros(10)\n",
    "print(arr)\n"
   ]
  },
  {
   "cell_type": "code",
   "execution_count": 6,
   "id": "cfde52b0",
   "metadata": {
    "execution": {
     "iopub.execute_input": "2022-09-23T09:34:10.346437Z",
     "iopub.status.busy": "2022-09-23T09:34:10.346014Z",
     "iopub.status.idle": "2022-09-23T09:34:10.353992Z",
     "shell.execute_reply": "2022-09-23T09:34:10.352575Z"
    },
    "papermill": {
     "duration": 0.017976,
     "end_time": "2022-09-23T09:34:10.356594",
     "exception": false,
     "start_time": "2022-09-23T09:34:10.338618",
     "status": "completed"
    },
    "tags": []
   },
   "outputs": [
    {
     "name": "stdout",
     "output_type": "stream",
     "text": [
      "[5. 5. 5. 5. 5. 5. 5. 5. 5. 5.]\n"
     ]
    }
   ],
   "source": [
    "import numpy as np\n",
    "arr=np.ones(10)*5\n",
    "print(arr)"
   ]
  },
  {
   "cell_type": "markdown",
   "id": "705fd496",
   "metadata": {
    "papermill": {
     "duration": 0.005323,
     "end_time": "2022-09-23T09:34:10.368733",
     "exception": false,
     "start_time": "2022-09-23T09:34:10.363410",
     "status": "completed"
    },
    "tags": []
   },
   "source": [
    "# 5. Create an array of all the even integers from 20 to 35"
   ]
  },
  {
   "cell_type": "code",
   "execution_count": 7,
   "id": "8c367e16",
   "metadata": {
    "execution": {
     "iopub.execute_input": "2022-09-23T09:34:10.381573Z",
     "iopub.status.busy": "2022-09-23T09:34:10.381162Z",
     "iopub.status.idle": "2022-09-23T09:34:10.390356Z",
     "shell.execute_reply": "2022-09-23T09:34:10.388833Z"
    },
    "papermill": {
     "duration": 0.019733,
     "end_time": "2022-09-23T09:34:10.394098",
     "exception": false,
     "start_time": "2022-09-23T09:34:10.374365",
     "status": "completed"
    },
    "tags": []
   },
   "outputs": [
    {
     "name": "stdout",
     "output_type": "stream",
     "text": [
      "Array of all the even integers from 30 to 70\n",
      "[30 32 34 36 38 40 42 44 46 48 50 52 54 56 58 60 62 64 66 68 70]\n"
     ]
    }
   ],
   "source": [
    "import numpy as np\n",
    "array=np.arange(30,71,2)\n",
    "print(\"Array of all the even integers from 30 to 70\")\n",
    "print(array)"
   ]
  },
  {
   "cell_type": "markdown",
   "id": "6d232397",
   "metadata": {
    "papermill": {
     "duration": 0.006044,
     "end_time": "2022-09-23T09:34:10.406765",
     "exception": false,
     "start_time": "2022-09-23T09:34:10.400721",
     "status": "completed"
    },
    "tags": []
   },
   "source": [
    "# 6. Create a 3x3 matrix with values ranging from 0 to 8"
   ]
  },
  {
   "cell_type": "code",
   "execution_count": 8,
   "id": "d0b7ba98",
   "metadata": {
    "execution": {
     "iopub.execute_input": "2022-09-23T09:34:10.420142Z",
     "iopub.status.busy": "2022-09-23T09:34:10.419727Z",
     "iopub.status.idle": "2022-09-23T09:34:10.427662Z",
     "shell.execute_reply": "2022-09-23T09:34:10.426171Z"
    },
    "papermill": {
     "duration": 0.017841,
     "end_time": "2022-09-23T09:34:10.430334",
     "exception": false,
     "start_time": "2022-09-23T09:34:10.412493",
     "status": "completed"
    },
    "tags": []
   },
   "outputs": [
    {
     "name": "stdout",
     "output_type": "stream",
     "text": [
      "[[ 2  3  4]\n",
      " [ 5  6  7]\n",
      " [ 8  9 10]]\n"
     ]
    }
   ],
   "source": [
    "import numpy as np\n",
    "x =  np.arange(2, 11).reshape(3,3)\n",
    "print(x)"
   ]
  },
  {
   "cell_type": "markdown",
   "id": "db0bbca4",
   "metadata": {
    "papermill": {
     "duration": 0.005917,
     "end_time": "2022-09-23T09:34:10.443556",
     "exception": false,
     "start_time": "2022-09-23T09:34:10.437639",
     "status": "completed"
    },
    "tags": []
   },
   "source": [
    "# 7. Concatinate a and b\n",
    "# a = np.array([1, 2, 3]), b = np.array([4, 5, 6])"
   ]
  },
  {
   "cell_type": "code",
   "execution_count": 9,
   "id": "3c81d7e0",
   "metadata": {
    "execution": {
     "iopub.execute_input": "2022-09-23T09:34:10.458308Z",
     "iopub.status.busy": "2022-09-23T09:34:10.457753Z",
     "iopub.status.idle": "2022-09-23T09:34:10.465888Z",
     "shell.execute_reply": "2022-09-23T09:34:10.464506Z"
    },
    "papermill": {
     "duration": 0.019632,
     "end_time": "2022-09-23T09:34:10.469872",
     "exception": false,
     "start_time": "2022-09-23T09:34:10.450240",
     "status": "completed"
    },
    "tags": []
   },
   "outputs": [
    {
     "name": "stdout",
     "output_type": "stream",
     "text": [
      "[1 2 3]\n",
      "[4 5 6]\n",
      "[1 2 3 4 5 6]\n"
     ]
    }
   ],
   "source": [
    "import numpy as np\n",
    "a=np.array([1,2,3])\n",
    "print(a)\n",
    "b=np.array([4,5,6])\n",
    "print(b)\n",
    "print(np.concatenate((a,b)))"
   ]
  },
  {
   "cell_type": "markdown",
   "id": "9cbc5ade",
   "metadata": {
    "papermill": {
     "duration": 0.0054,
     "end_time": "2022-09-23T09:34:10.481144",
     "exception": false,
     "start_time": "2022-09-23T09:34:10.475744",
     "status": "completed"
    },
    "tags": []
   },
   "source": [
    "# Pandas\n",
    "# 8. Create a dataframe with 3 rows and 2 columns"
   ]
  },
  {
   "cell_type": "code",
   "execution_count": 10,
   "id": "18a7560f",
   "metadata": {
    "execution": {
     "iopub.execute_input": "2022-09-23T09:34:10.496371Z",
     "iopub.status.busy": "2022-09-23T09:34:10.495963Z",
     "iopub.status.idle": "2022-09-23T09:34:10.510489Z",
     "shell.execute_reply": "2022-09-23T09:34:10.508914Z"
    },
    "papermill": {
     "duration": 0.025286,
     "end_time": "2022-09-23T09:34:10.513128",
     "exception": false,
     "start_time": "2022-09-23T09:34:10.487842",
     "status": "completed"
    },
    "tags": []
   },
   "outputs": [
    {
     "name": "stdout",
     "output_type": "stream",
     "text": [
      "Empty DataFrame\n",
      "Columns: []\n",
      "Index: []\n",
      "\n"
     ]
    }
   ],
   "source": [
    "import pandas as pd\n",
    "df = pd.DataFrame()\n",
    "print(df)\n",
    "print()"
   ]
  },
  {
   "cell_type": "markdown",
   "id": "3b4764cc",
   "metadata": {
    "papermill": {
     "duration": 0.006985,
     "end_time": "2022-09-23T09:34:10.526121",
     "exception": false,
     "start_time": "2022-09-23T09:34:10.519136",
     "status": "completed"
    },
    "tags": []
   },
   "source": [
    "# 9. Generate the series of dates from 1st Jan, 2023 to 10th Feb, 2023"
   ]
  },
  {
   "cell_type": "code",
   "execution_count": 11,
   "id": "31251cf0",
   "metadata": {
    "execution": {
     "iopub.execute_input": "2022-09-23T09:34:10.542583Z",
     "iopub.status.busy": "2022-09-23T09:34:10.541833Z",
     "iopub.status.idle": "2022-09-23T09:34:10.551401Z",
     "shell.execute_reply": "2022-09-23T09:34:10.548985Z"
    },
    "papermill": {
     "duration": 0.019861,
     "end_time": "2022-09-23T09:34:10.553725",
     "exception": true,
     "start_time": "2022-09-23T09:34:10.533864",
     "status": "failed"
    },
    "tags": []
   },
   "outputs": [
    {
     "ename": "SyntaxError",
     "evalue": "invalid character in identifier (3390791200.py, line 3)",
     "output_type": "error",
     "traceback": [
      "\u001b[0;36m  File \u001b[0;32m\"/tmp/ipykernel_20/3390791200.py\"\u001b[0;36m, line \u001b[0;32m3\u001b[0m\n\u001b[0;31m    date=datetime.datetime.strptime(“01-01-2023”,”%d-%m-%Y”)\u001b[0m\n\u001b[0m                                      ^\u001b[0m\n\u001b[0;31mSyntaxError\u001b[0m\u001b[0;31m:\u001b[0m invalid character in identifier\n"
     ]
    }
   ],
   "source": [
    "\n",
    "import datetime\n",
    "import pandas as pd\n",
    "date=datetime.datetime.strptime(“01-01-2023”,”%d-%m-%Y”)\n",
    "periods= datetime.datetime.strptime(“10-02-2023”,”%d-%m-%Y”)\n",
    "date_gen=pd.date_range(date,periods)\n",
    "print(date_gen.strftime(”%d-%m-%Y”))"
   ]
  },
  {
   "cell_type": "markdown",
   "id": "e54a5b76",
   "metadata": {
    "papermill": {
     "duration": null,
     "end_time": null,
     "exception": null,
     "start_time": null,
     "status": "pending"
    },
    "tags": []
   },
   "source": [
    "# 10. Create 2D list to DataFrame\n",
    "# lists = [[1, 'aaa', 22], [2, 'bbb', 25], [3, 'ccc', 24]]"
   ]
  },
  {
   "cell_type": "code",
   "execution_count": null,
   "id": "b13117e1",
   "metadata": {
    "execution": {
     "iopub.execute_input": "2022-09-23T09:14:23.919193Z",
     "iopub.status.busy": "2022-09-23T09:14:23.918808Z",
     "iopub.status.idle": "2022-09-23T09:14:23.926826Z",
     "shell.execute_reply": "2022-09-23T09:14:23.925440Z",
     "shell.execute_reply.started": "2022-09-23T09:14:23.919163Z"
    },
    "papermill": {
     "duration": null,
     "end_time": null,
     "exception": null,
     "start_time": null,
     "status": "pending"
    },
    "tags": []
   },
   "outputs": [],
   "source": [
    "Import pandas as pd\n",
    "lists==[[1,’aaa’,22], [2,’bbb’,25], [3,’ccc’,24]]\n",
    "df=pd.DataFrame(lists,columns=[‘ID’,’Name’,’Age’])\n",
    "print(df)"
   ]
  }
 ],
 "metadata": {
  "kernelspec": {
   "display_name": "Python 3",
   "language": "python",
   "name": "python3"
  },
  "language_info": {
   "codemirror_mode": {
    "name": "ipython",
    "version": 3
   },
   "file_extension": ".py",
   "mimetype": "text/x-python",
   "name": "python",
   "nbconvert_exporter": "python",
   "pygments_lexer": "ipython3",
   "version": "3.7.12"
  },
  "papermill": {
   "default_parameters": {},
   "duration": 11.630284,
   "end_time": "2022-09-23T09:34:11.282071",
   "environment_variables": {},
   "exception": true,
   "input_path": "__notebook__.ipynb",
   "output_path": "__notebook__.ipynb",
   "parameters": {},
   "start_time": "2022-09-23T09:33:59.651787",
   "version": "2.3.4"
  }
 },
 "nbformat": 4,
 "nbformat_minor": 5
}
